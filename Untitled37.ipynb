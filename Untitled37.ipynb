{
  "nbformat": 4,
  "nbformat_minor": 0,
  "metadata": {
    "colab": {
      "name": "Untitled37.ipynb",
      "provenance": [],
      "authorship_tag": "ABX9TyMSyySYQhiRycS1D9WHPx0R",
      "include_colab_link": true
    },
    "kernelspec": {
      "name": "python3",
      "display_name": "Python 3"
    },
    "language_info": {
      "name": "python"
    }
  },
  "cells": [
    {
      "cell_type": "markdown",
      "metadata": {
        "id": "view-in-github",
        "colab_type": "text"
      },
      "source": [
        "<a href=\"https://colab.research.google.com/github/Sulfikar4424/DSML/blob/main/Untitled37.ipynb\" target=\"_parent\"><img src=\"https://colab.research.google.com/assets/colab-badge.svg\" alt=\"Open In Colab\"/></a>"
      ]
    },
    {
      "cell_type": "code",
      "source": [
        "pip install -U flask-cors"
      ],
      "metadata": {
        "colab": {
          "base_uri": "https://localhost:8080/"
        },
        "id": "v9ypgNWlTVIF",
        "outputId": "ee1240d3-552d-48df-cfb1-1693db1f8aa2"
      },
      "execution_count": 3,
      "outputs": [
        {
          "output_type": "stream",
          "name": "stdout",
          "text": [
            "Collecting flask-cors\n",
            "  Downloading Flask_Cors-3.0.10-py2.py3-none-any.whl (14 kB)\n",
            "Requirement already satisfied: Flask>=0.9 in /usr/local/lib/python3.7/dist-packages (from flask-cors) (1.1.4)\n",
            "Requirement already satisfied: Six in /usr/local/lib/python3.7/dist-packages (from flask-cors) (1.15.0)\n",
            "Requirement already satisfied: itsdangerous<2.0,>=0.24 in /usr/local/lib/python3.7/dist-packages (from Flask>=0.9->flask-cors) (1.1.0)\n",
            "Requirement already satisfied: Jinja2<3.0,>=2.10.1 in /usr/local/lib/python3.7/dist-packages (from Flask>=0.9->flask-cors) (2.11.3)\n",
            "Requirement already satisfied: click<8.0,>=5.1 in /usr/local/lib/python3.7/dist-packages (from Flask>=0.9->flask-cors) (7.1.2)\n",
            "Requirement already satisfied: Werkzeug<2.0,>=0.15 in /usr/local/lib/python3.7/dist-packages (from Flask>=0.9->flask-cors) (1.0.1)\n",
            "Requirement already satisfied: MarkupSafe>=0.23 in /usr/local/lib/python3.7/dist-packages (from Jinja2<3.0,>=2.10.1->Flask>=0.9->flask-cors) (2.0.1)\n",
            "Installing collected packages: flask-cors\n",
            "Successfully installed flask-cors-3.0.10\n"
          ]
        }
      ]
    },
    {
      "cell_type": "code",
      "execution_count": 4,
      "metadata": {
        "colab": {
          "base_uri": "https://localhost:8080/",
          "height": 269
        },
        "id": "99Le_q6ISjCI",
        "outputId": "a9fab907-f29c-400b-b74e-192dea268efb"
      },
      "outputs": [
        {
          "output_type": "stream",
          "name": "stdout",
          "text": [
            " * Serving Flask app \"__main__\" (lazy loading)\n",
            " * Environment: production\n",
            "\u001b[31m   WARNING: This is a development server. Do not use it in a production deployment.\u001b[0m\n",
            "\u001b[2m   Use a production WSGI server instead.\u001b[0m\n",
            " * Debug mode: on\n"
          ]
        },
        {
          "output_type": "stream",
          "name": "stderr",
          "text": [
            " * Running on http://127.0.0.1:5000/ (Press CTRL+C to quit)\n",
            " * Restarting with stat\n"
          ]
        },
        {
          "output_type": "error",
          "ename": "SystemExit",
          "evalue": "ignored",
          "traceback": [
            "An exception has occurred, use %tb to see the full traceback.\n",
            "\u001b[0;31mSystemExit\u001b[0m\u001b[0;31m:\u001b[0m 1\n"
          ]
        },
        {
          "output_type": "stream",
          "name": "stderr",
          "text": [
            "/usr/local/lib/python3.7/dist-packages/IPython/core/interactiveshell.py:2890: UserWarning: To exit: use 'exit', 'quit', or Ctrl-D.\n",
            "  warn(\"To exit: use 'exit', 'quit', or Ctrl-D.\", stacklevel=1)\n"
          ]
        }
      ],
      "source": [
        "# importing the necessary dependencies\n",
        "from flask import Flask, render_template, request, jsonify\n",
        "from flask_cors import CORS, cross_origin\n",
        "import pickle\n",
        "\n",
        "app = Flask(__name__)  # initializing a flask app\n",
        "\n",
        "\n",
        "@app.route('/', methods=['GET'])  # route to display the home page\n",
        "@cross_origin()\n",
        "def homePage():\n",
        "    return render_template(\"index.html\")\n",
        "\n",
        "\n",
        "@app.route('/predict', methods=['POST', 'GET'])  # route to show the predictions in a web UI\n",
        "@cross_origin()\n",
        "def index():\n",
        "    if request.method == 'POST':\n",
        "        try:\n",
        "            #  reading the inputs given by the user\n",
        "            mdvp_fo = float(request.form['mdvp_fo'])\n",
        "            mdvp_fhi = float(request.form['mdvp_fhi'])\n",
        "            mdvp_flo = float(request.form['mdvp_flo'])\n",
        "            mdvp_jitper = float(request.form['mdvp_jitper'])\n",
        "            mdvp_jitabs = float(request.form['mdvp_jitabs'])\n",
        "            mdvp_rap = float(request.form['mdvp_rap'])\n",
        "            mdvp_ppq = float(request.form['mdvp_ppq'])\n",
        "            jitter_ddp = float(request.form['jitter_ddp'])\n",
        "            mdvp_shim = float(request.form['mdvp_shim'])\n",
        "            mdvp_shim_db = float(request.form['mdvp_shim_db'])\n",
        "            shimm_apq3 = float(request.form['shimm_apq3'])\n",
        "            shimm_apq5 = float(request.form['shimm_apq5'])\n",
        "            mdvp_apq = float(request.form['mdvp_apq'])\n",
        "            shimm_dda = float(request.form['shimm_dda'])\n",
        "            nhr = float(request.form['nhr'])\n",
        "            hnr = float(request.form['hnr'])\n",
        "            rpde = float(request.form['rpde'])\n",
        "            dfa = float(request.form['dfa'])\n",
        "            spread1 = float(request.form['spread1'])\n",
        "            spread2 = float(request.form['spread2'])\n",
        "            d2 = float(request.form['d2'])\n",
        "            ppe = float(request.form['ppe'])\n",
        "\n",
        "            filename = 'modelForPrediction.sav'\n",
        "            loaded_model = pickle.load(open(filename, 'rb'))  # loading the model file from the storage\n",
        "            # predictions using the loaded model file\n",
        "            scaler = pickle.load(open('standardScalar.sav', 'rb'))\n",
        "            prediction = loaded_model.predict(scaler.transform([[mdvp_fo, mdvp_fhi, mdvp_flo, mdvp_jitper, mdvp_jitabs,\n",
        "                                                                 mdvp_rap, mdvp_ppq, jitter_ddp, mdvp_shim,\n",
        "                                                                 mdvp_shim_db, shimm_apq3, shimm_apq5, mdvp_apq,\n",
        "                                                                 shimm_dda, nhr, hnr, rpde, dfa, spread1, spread2, d2,\n",
        "                                                                 ppe]]))\n",
        "            print('prediction is', prediction)\n",
        "            if prediction == 1:\n",
        "                pred = \"You have Parkinson's Disease. Please consult a specialist.\"\n",
        "            else:\n",
        "                pred = \"You are Healthy Person.\"\n",
        "            # showing the prediction results in a UI\n",
        "            return render_template('results.html', prediction=pred)\n",
        "        except Exception as e:\n",
        "            print('The Exception message is: ', e)\n",
        "            return 'something is wrong'\n",
        "    # return render_template('results.html')\n",
        "    else:\n",
        "        return render_template('index.html')\n",
        "\n",
        "\n",
        "if __name__ == \"__main__\":\n",
        "    # app.run(host='127.0.0.1', port=8001, debug=True)\n",
        "    app.run(debug=True)  # running the app"
      ]
    }
  ]
}