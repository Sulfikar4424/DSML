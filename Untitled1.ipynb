{
  "nbformat": 4,
  "nbformat_minor": 0,
  "metadata": {
    "colab": {
      "name": "Untitled1.ipynb",
      "provenance": [],
      "collapsed_sections": [],
      "authorship_tag": "ABX9TyOh3RGI6TTAHCTvrrGNcivr",
      "include_colab_link": true
    },
    "kernelspec": {
      "name": "python3",
      "display_name": "Python 3"
    },
    "language_info": {
      "name": "python"
    }
  },
  "cells": [
    {
      "cell_type": "markdown",
      "metadata": {
        "id": "view-in-github",
        "colab_type": "text"
      },
      "source": [
        "<a href=\"https://colab.research.google.com/github/Sulfikar4424/DSML/blob/main/Untitled1.ipynb\" target=\"_parent\"><img src=\"https://colab.research.google.com/assets/colab-badge.svg\" alt=\"Open In Colab\"/></a>"
      ]
    },
    {
      "cell_type": "code",
      "metadata": {
        "colab": {
          "base_uri": "https://localhost:8080/"
        },
        "id": "TZXzXsh9N-BT",
        "outputId": "6e6a8eb2-195a-469f-eb8c-5061783e93cc"
      },
      "source": [
        "print (\"hello\")"
      ],
      "execution_count": 1,
      "outputs": [
        {
          "output_type": "stream",
          "name": "stdout",
          "text": [
            "hello\n"
          ]
        }
      ]
    },
    {
      "cell_type": "code",
      "metadata": {
        "colab": {
          "base_uri": "https://localhost:8080/"
        },
        "id": "nY04u5k7ObMZ",
        "outputId": "ee76775a-45c5-471a-d8be-d3ece0ead9d7"
      },
      "source": [
        "s=1\n",
        "print(type(s))\n",
        "a=\"hello\"\n",
        "print(type(a))\n",
        "b=[1,2]\n",
        "print(type(b))\n",
        "c={1:'apple',2:'orenge'}\n",
        "print(type(c))\n",
        "d=True\n",
        "print(type(d))\n",
        "e=1.2\n",
        "print(type(e))\n",
        "f={\"a\",\"b\"}\n",
        "print(type(f))\n",
        "g=()\n",
        "print(type(g))\n",
        "h=bytes()\n",
        "print(type(h))\n",
        "i=bytearray()\n",
        "print(type(i))\n",
        "j=range(4)\n",
        "print(type(j))\n"
      ],
      "execution_count": 4,
      "outputs": [
        {
          "output_type": "stream",
          "name": "stdout",
          "text": [
            "<class 'int'>\n",
            "<class 'str'>\n",
            "<class 'list'>\n",
            "<class 'dict'>\n",
            "<class 'bool'>\n",
            "<class 'float'>\n",
            "<class 'set'>\n",
            "<class 'tuple'>\n",
            "<class 'bytes'>\n",
            "<class 'bytearray'>\n",
            "<class 'range'>\n"
          ]
        }
      ]
    },
    {
      "cell_type": "code",
      "metadata": {
        "colab": {
          "base_uri": "https://localhost:8080/"
        },
        "id": "2mpfXczwS9yC",
        "outputId": "c89a3ddd-b643-4ea4-bd78-e23b49f86501"
      },
      "source": [
        "k=['s','u','l','f','i','k','a','r']\n",
        "print(k[0])\n",
        "print(k[1])\n",
        "print(k[2])\n",
        "print(k[3])\n",
        "print(k[0:2])\n",
        "print(k[:])\n",
        "print(k[-2])\n",
        "print(k[5])"
      ],
      "execution_count": 6,
      "outputs": [
        {
          "output_type": "stream",
          "name": "stdout",
          "text": [
            "s\n",
            "u\n",
            "l\n",
            "f\n",
            "['s', 'u']\n",
            "['s', 'u', 'l', 'f', 'i', 'k', 'a', 'r']\n",
            "a\n",
            "k\n"
          ]
        }
      ]
    },
    {
      "cell_type": "code",
      "metadata": {
        "id": "xgEiDUsUXcRP"
      },
      "source": [
        ""
      ],
      "execution_count": null,
      "outputs": []
    },
    {
      "cell_type": "code",
      "metadata": {
        "colab": {
          "base_uri": "https://localhost:8080/"
        },
        "id": "q40T7BCKXcSa",
        "outputId": "83e7f5f2-88d0-4c4b-ac09-0389845d7f11"
      },
      "source": [
        "d={1:'giri',2:'hari',3:'keeri'}\n",
        "print(d)\n",
        "print(\"first name is \"+d[1])\n",
        "print(\"second name is \"+d[2])\n",
        "print(d.keys())\n",
        "print(d.values())\n"
      ],
      "execution_count": 8,
      "outputs": [
        {
          "output_type": "stream",
          "name": "stdout",
          "text": [
            "{1: 'giri', 2: 'hari', 3: 'keeri'}\n",
            "first name is giri\n",
            "second name is hari\n",
            "dict_keys([1, 2, 3])\n",
            "dict_values(['giri', 'hari', 'keeri'])\n"
          ]
        }
      ]
    },
    {
      "cell_type": "code",
      "metadata": {
        "colab": {
          "base_uri": "https://localhost:8080/"
        },
        "id": "mGU3PAE7Y9Pj",
        "outputId": "d3e9e041-0ee3-45fa-e773-2aa99aafe07a"
      },
      "source": [
        "k={1,2,3}\n",
        "print(k)\n",
        "m={1.0,\"hello\",(1,2,3)}\n",
        "print(m)\n",
        "n=set([1,2,3,2])\n",
        "print(n)\n",
        "o=set([\"hello world\"])\n",
        "print(o)"
      ],
      "execution_count": 9,
      "outputs": [
        {
          "output_type": "stream",
          "name": "stdout",
          "text": [
            "{1, 2, 3}\n",
            "{1.0, 'hello', (1, 2, 3)}\n",
            "{1, 2, 3}\n",
            "{'hello world'}\n"
          ]
        }
      ]
    },
    {
      "cell_type": "code",
      "metadata": {
        "colab": {
          "base_uri": "https://localhost:8080/"
        },
        "id": "lFTguOtfZ8cu",
        "outputId": "8299fb71-fa0a-462e-baba-7328a3f4a404"
      },
      "source": [
        "def add(a,b):\n",
        "  return a+b\n",
        "res=add(2,3)\n",
        "print(\"result\",res)"
      ],
      "execution_count": 12,
      "outputs": [
        {
          "output_type": "stream",
          "name": "stdout",
          "text": [
            "result 5\n"
          ]
        }
      ]
    }
  ]
}