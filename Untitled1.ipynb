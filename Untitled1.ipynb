{
  "nbformat": 4,
  "nbformat_minor": 0,
  "metadata": {
    "colab": {
      "name": "Untitled1.ipynb",
      "provenance": [],
      "collapsed_sections": [],
      "authorship_tag": "ABX9TyPfv3Tw5s8X6xQKgC7mRlvL",
      "include_colab_link": true
    },
    "kernelspec": {
      "name": "python3",
      "display_name": "Python 3"
    },
    "language_info": {
      "name": "python"
    }
  },
  "cells": [
    {
      "cell_type": "markdown",
      "metadata": {
        "id": "view-in-github",
        "colab_type": "text"
      },
      "source": [
        "<a href=\"https://colab.research.google.com/github/Sulfikar4424/DSML/blob/main/Untitled1.ipynb\" target=\"_parent\"><img src=\"https://colab.research.google.com/assets/colab-badge.svg\" alt=\"Open In Colab\"/></a>"
      ]
    },
    {
      "cell_type": "code",
      "metadata": {
        "colab": {
          "base_uri": "https://localhost:8080/"
        },
        "id": "TZXzXsh9N-BT",
        "outputId": "6e6a8eb2-195a-469f-eb8c-5061783e93cc"
      },
      "source": [
        "print (\"hello\")"
      ],
      "execution_count": 1,
      "outputs": [
        {
          "output_type": "stream",
          "name": "stdout",
          "text": [
            "hello\n"
          ]
        }
      ]
    },
    {
      "cell_type": "code",
      "metadata": {
        "colab": {
          "base_uri": "https://localhost:8080/"
        },
        "id": "nY04u5k7ObMZ",
        "outputId": "ee76775a-45c5-471a-d8be-d3ece0ead9d7"
      },
      "source": [
        "s=1\n",
        "print(type(s))\n",
        "a=\"hello\"\n",
        "print(type(a))\n",
        "b=[1,2]\n",
        "print(type(b))\n",
        "c={1:'apple',2:'orenge'}\n",
        "print(type(c))\n",
        "d=True\n",
        "print(type(d))\n",
        "e=1.2\n",
        "print(type(e))\n",
        "f={\"a\",\"b\"}\n",
        "print(type(f))\n",
        "g=()\n",
        "print(type(g))\n",
        "h=bytes()\n",
        "print(type(h))\n",
        "i=bytearray()\n",
        "print(type(i))\n",
        "j=range(4)\n",
        "print(type(j))\n"
      ],
      "execution_count": 4,
      "outputs": [
        {
          "output_type": "stream",
          "name": "stdout",
          "text": [
            "<class 'int'>\n",
            "<class 'str'>\n",
            "<class 'list'>\n",
            "<class 'dict'>\n",
            "<class 'bool'>\n",
            "<class 'float'>\n",
            "<class 'set'>\n",
            "<class 'tuple'>\n",
            "<class 'bytes'>\n",
            "<class 'bytearray'>\n",
            "<class 'range'>\n"
          ]
        }
      ]
    }
  ]
}