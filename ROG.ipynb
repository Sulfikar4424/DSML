{
  "nbformat": 4,
  "nbformat_minor": 0,
  "metadata": {
    "colab": {
      "name": "Untitled20.ipynb",
      "provenance": [],
      "authorship_tag": "ABX9TyOsvb0hJPoJxMbNR3gcMHHj",
      "include_colab_link": true
    },
    "kernelspec": {
      "name": "python3",
      "display_name": "Python 3"
    },
    "language_info": {
      "name": "python"
    }
  },
  "cells": [
    {
      "cell_type": "markdown",
      "metadata": {
        "id": "view-in-github",
        "colab_type": "text"
      },
      "source": [
        "<a href=\"https://colab.research.google.com/github/Sulfikar4424/DSML/blob/main/ROG.ipynb\" target=\"_parent\"><img src=\"https://colab.research.google.com/assets/colab-badge.svg\" alt=\"Open In Colab\"/></a>"
      ]
    },
    {
      "cell_type": "code",
      "source": [
        "#input text article\n",
        "article_text= \"linguistic expression, such as the English example The quick brown fox jumps over the lazy dog. In traditional grammar, it is typically defined as a string of words that expresses a complete thought, or as a unit consisting of a subject and predicate. In non-functional linguistics it is typically defined as a maximal unit of syntactic structure such as a constituent. In functional linguistics, it is defined as a unit of written texts delimited by graphological features such as upper case letters and markers such as periods, question marks, and exclamation marks. This notion contrasts with a curve, which is delimited by phonologic features such as pitch and loudness and markers such as pauses; and with a clause, which is a sequence of words that represents some process going on throughout time \""
      ],
      "metadata": {
        "id": "MAcQNWsx7pZe"
      },
      "execution_count": 1,
      "outputs": []
    },
    {
      "cell_type": "code",
      "source": [
        "import re\n",
        "import nltk"
      ],
      "metadata": {
        "id": "tGxdE_WJUKdv"
      },
      "execution_count": 2,
      "outputs": []
    },
    {
      "cell_type": "markdown",
      "source": [
        "DATA PRE PROCESSING"
      ],
      "metadata": {
        "id": "9er3eFkxXXMn"
      }
    },
    {
      "cell_type": "code",
      "source": [
        "article_text = article_text.lower()\n",
        "article_text"
      ],
      "metadata": {
        "colab": {
          "base_uri": "https://localhost:8080/",
          "height": 105
        },
        "id": "RyfJe3vmUVc_",
        "outputId": "989537b3-c3bf-4959-cd1a-5abc6d263cd3"
      },
      "execution_count": 3,
      "outputs": [
        {
          "output_type": "execute_result",
          "data": {
            "application/vnd.google.colaboratory.intrinsic+json": {
              "type": "string"
            },
            "text/plain": [
              "'linguistic expression, such as the english example the quick brown fox jumps over the lazy dog. in traditional grammar, it is typically defined as a string of words that expresses a complete thought, or as a unit consisting of a subject and predicate. in non-functional linguistics it is typically defined as a maximal unit of syntactic structure such as a constituent. in functional linguistics, it is defined as a unit of written texts delimited by graphological features such as upper case letters and markers such as periods, question marks, and exclamation marks. this notion contrasts with a curve, which is delimited by phonologic features such as pitch and loudness and markers such as pauses; and with a clause, which is a sequence of words that represents some process going on throughout time '"
            ]
          },
          "metadata": {},
          "execution_count": 3
        }
      ]
    },
    {
      "cell_type": "code",
      "source": [
        "# remove spaces, punctuations and numbers\n",
        "clean_text = re.sub('[^a-zA-Z]', ' ', article_text)\n",
        "clean_text = re.sub('\\s+', ' ', clean_text)\n",
        "clean_text"
      ],
      "metadata": {
        "colab": {
          "base_uri": "https://localhost:8080/",
          "height": 105
        },
        "id": "q-q1-YBcUitw",
        "outputId": "01e23c38-5d1d-4e13-8a60-a2f5936422e6"
      },
      "execution_count": 4,
      "outputs": [
        {
          "output_type": "execute_result",
          "data": {
            "application/vnd.google.colaboratory.intrinsic+json": {
              "type": "string"
            },
            "text/plain": [
              "'linguistic expression such as the english example the quick brown fox jumps over the lazy dog in traditional grammar it is typically defined as a string of words that expresses a complete thought or as a unit consisting of a subject and predicate in non functional linguistics it is typically defined as a maximal unit of syntactic structure such as a constituent in functional linguistics it is defined as a unit of written texts delimited by graphological features such as upper case letters and markers such as periods question marks and exclamation marks this notion contrasts with a curve which is delimited by phonologic features such as pitch and loudness and markers such as pauses and with a clause which is a sequence of words that represents some process going on throughout time '"
            ]
          },
          "metadata": {},
          "execution_count": 4
        }
      ]
    },
    {
      "cell_type": "code",
      "source": [
        "import nltk\n",
        "nltk.download('punkt')"
      ],
      "metadata": {
        "colab": {
          "base_uri": "https://localhost:8080/"
        },
        "id": "9580jtPOUx3Z",
        "outputId": "5ae10a49-c6ba-4f24-aabf-ad58fcc67578"
      },
      "execution_count": 5,
      "outputs": [
        {
          "output_type": "stream",
          "name": "stdout",
          "text": [
            "[nltk_data] Downloading package punkt to /root/nltk_data...\n",
            "[nltk_data]   Unzipping tokenizers/punkt.zip.\n"
          ]
        },
        {
          "output_type": "execute_result",
          "data": {
            "text/plain": [
              "True"
            ]
          },
          "metadata": {},
          "execution_count": 5
        }
      ]
    },
    {
      "cell_type": "code",
      "source": [
        "# split into sentence list\n",
        "sentence_list = nltk.sent_tokenize(article_text)\n",
        "sentence_list"
      ],
      "metadata": {
        "colab": {
          "base_uri": "https://localhost:8080/"
        },
        "id": "A6KrUozgU5ku",
        "outputId": "8ac3b704-bbea-4c5b-fa52-b7e3ba996606"
      },
      "execution_count": 6,
      "outputs": [
        {
          "output_type": "execute_result",
          "data": {
            "text/plain": [
              "['linguistic expression, such as the english example the quick brown fox jumps over the lazy dog.',\n",
              " 'in traditional grammar, it is typically defined as a string of words that expresses a complete thought, or as a unit consisting of a subject and predicate.',\n",
              " 'in non-functional linguistics it is typically defined as a maximal unit of syntactic structure such as a constituent.',\n",
              " 'in functional linguistics, it is defined as a unit of written texts delimited by graphological features such as upper case letters and markers such as periods, question marks, and exclamation marks.',\n",
              " 'this notion contrasts with a curve, which is delimited by phonologic features such as pitch and loudness and markers such as pauses; and with a clause, which is a sequence of words that represents some process going on throughout time']"
            ]
          },
          "metadata": {},
          "execution_count": 6
        }
      ]
    },
    {
      "cell_type": "code",
      "source": [
        "## run this cell once to download stopwords\n",
        "import nltk\n",
        "nltk.download('stopwords')"
      ],
      "metadata": {
        "colab": {
          "base_uri": "https://localhost:8080/"
        },
        "id": "C06BUG5oVBY5",
        "outputId": "bddc45cd-d878-4b31-8e35-25b43cc46482"
      },
      "execution_count": 7,
      "outputs": [
        {
          "output_type": "stream",
          "name": "stdout",
          "text": [
            "[nltk_data] Downloading package stopwords to /root/nltk_data...\n",
            "[nltk_data]   Unzipping corpora/stopwords.zip.\n"
          ]
        },
        {
          "output_type": "execute_result",
          "data": {
            "text/plain": [
              "True"
            ]
          },
          "metadata": {},
          "execution_count": 7
        }
      ]
    },
    {
      "cell_type": "markdown",
      "source": [
        "WORD FREQUENCY"
      ],
      "metadata": {
        "id": "TlDADoqUXORN"
      }
    },
    {
      "cell_type": "code",
      "source": [
        "stopwords = nltk.corpus.stopwords.words('english')\n",
        "\n",
        "word_frequencies = {}\n",
        "for word in nltk.word_tokenize(clean_text):\n",
        "    if word not in stopwords:\n",
        "        if word not in word_frequencies:\n",
        "            word_frequencies[word] = 1\n",
        "        else:\n",
        "            word_frequencies[word] += 1"
      ],
      "metadata": {
        "id": "znj-VIF4VksO"
      },
      "execution_count": 8,
      "outputs": []
    },
    {
      "cell_type": "code",
      "source": [
        "maximum_frequency = max(word_frequencies.values())\n",
        "\n",
        "for word in word_frequencies:\n",
        "    word_frequencies[word] = word_frequencies[word] / maximum_frequency"
      ],
      "metadata": {
        "id": "wVMSGwJcWSYP"
      },
      "execution_count": 9,
      "outputs": []
    },
    {
      "cell_type": "markdown",
      "source": [
        "Calculate Sentence Scores"
      ],
      "metadata": {
        "id": "L8nS8q-2XHOo"
      }
    },
    {
      "cell_type": "code",
      "source": [
        "sentence_scores = {}\n",
        "\n",
        "for sentence in sentence_list:\n",
        "    for word in nltk.word_tokenize(sentence):\n",
        "        if word in word_frequencies and len(sentence.split(' ')) < 30:\n",
        "            if sentence not in sentence_scores:\n",
        "                sentence_scores[sentence] = word_frequencies[word]\n",
        "            else:\n",
        "                sentence_scores[sentence] += word_frequencies[word]"
      ],
      "metadata": {
        "id": "RuSCec3gWaLv"
      },
      "execution_count": 10,
      "outputs": []
    },
    {
      "cell_type": "code",
      "source": [
        "word_frequencies"
      ],
      "metadata": {
        "colab": {
          "base_uri": "https://localhost:8080/"
        },
        "id": "jOSAgzHtWewo",
        "outputId": "0e656e69-64f4-41a9-a024-540c19339cac"
      },
      "execution_count": 11,
      "outputs": [
        {
          "output_type": "execute_result",
          "data": {
            "text/plain": [
              "{'brown': 0.3333333333333333,\n",
              " 'case': 0.3333333333333333,\n",
              " 'clause': 0.3333333333333333,\n",
              " 'complete': 0.3333333333333333,\n",
              " 'consisting': 0.3333333333333333,\n",
              " 'constituent': 0.3333333333333333,\n",
              " 'contrasts': 0.3333333333333333,\n",
              " 'curve': 0.3333333333333333,\n",
              " 'defined': 1.0,\n",
              " 'delimited': 0.6666666666666666,\n",
              " 'dog': 0.3333333333333333,\n",
              " 'english': 0.3333333333333333,\n",
              " 'example': 0.3333333333333333,\n",
              " 'exclamation': 0.3333333333333333,\n",
              " 'expresses': 0.3333333333333333,\n",
              " 'expression': 0.3333333333333333,\n",
              " 'features': 0.6666666666666666,\n",
              " 'fox': 0.3333333333333333,\n",
              " 'functional': 0.6666666666666666,\n",
              " 'going': 0.3333333333333333,\n",
              " 'grammar': 0.3333333333333333,\n",
              " 'graphological': 0.3333333333333333,\n",
              " 'jumps': 0.3333333333333333,\n",
              " 'lazy': 0.3333333333333333,\n",
              " 'letters': 0.3333333333333333,\n",
              " 'linguistic': 0.3333333333333333,\n",
              " 'linguistics': 0.6666666666666666,\n",
              " 'loudness': 0.3333333333333333,\n",
              " 'markers': 0.6666666666666666,\n",
              " 'marks': 0.6666666666666666,\n",
              " 'maximal': 0.3333333333333333,\n",
              " 'non': 0.3333333333333333,\n",
              " 'notion': 0.3333333333333333,\n",
              " 'pauses': 0.3333333333333333,\n",
              " 'periods': 0.3333333333333333,\n",
              " 'phonologic': 0.3333333333333333,\n",
              " 'pitch': 0.3333333333333333,\n",
              " 'predicate': 0.3333333333333333,\n",
              " 'process': 0.3333333333333333,\n",
              " 'question': 0.3333333333333333,\n",
              " 'quick': 0.3333333333333333,\n",
              " 'represents': 0.3333333333333333,\n",
              " 'sequence': 0.3333333333333333,\n",
              " 'string': 0.3333333333333333,\n",
              " 'structure': 0.3333333333333333,\n",
              " 'subject': 0.3333333333333333,\n",
              " 'syntactic': 0.3333333333333333,\n",
              " 'texts': 0.3333333333333333,\n",
              " 'thought': 0.3333333333333333,\n",
              " 'throughout': 0.3333333333333333,\n",
              " 'time': 0.3333333333333333,\n",
              " 'traditional': 0.3333333333333333,\n",
              " 'typically': 0.6666666666666666,\n",
              " 'unit': 1.0,\n",
              " 'upper': 0.3333333333333333,\n",
              " 'words': 0.6666666666666666,\n",
              " 'written': 0.3333333333333333}"
            ]
          },
          "metadata": {},
          "execution_count": 11
        }
      ]
    },
    {
      "cell_type": "code",
      "source": [
        "sentence_scores"
      ],
      "metadata": {
        "colab": {
          "base_uri": "https://localhost:8080/"
        },
        "id": "t16u0ElAWjmt",
        "outputId": "da37dcb0-fd88-4030-d425-dfd82bbfdbc7"
      },
      "execution_count": 12,
      "outputs": [
        {
          "output_type": "execute_result",
          "data": {
            "text/plain": [
              "{'in non-functional linguistics it is typically defined as a maximal unit of syntactic structure such as a constituent.': 4.666666666666666,\n",
              " 'in traditional grammar, it is typically defined as a string of words that expresses a complete thought, or as a unit consisting of a subject and predicate.': 6.333333333333332,\n",
              " 'linguistic expression, such as the english example the quick brown fox jumps over the lazy dog.': 3.3333333333333335}"
            ]
          },
          "metadata": {},
          "execution_count": 12
        }
      ]
    },
    {
      "cell_type": "markdown",
      "source": [
        "SUMMERY"
      ],
      "metadata": {
        "id": "pQFISIaeWxWf"
      }
    },
    {
      "cell_type": "code",
      "source": [
        "import heapq\n",
        "summary = heapq.nlargest(5, sentence_scores, key=sentence_scores.get)\n",
        "\n",
        "print(\" \".join(summary))"
      ],
      "metadata": {
        "colab": {
          "base_uri": "https://localhost:8080/"
        },
        "id": "yq-Cq58ZWotg",
        "outputId": "10ff1883-0048-4639-84c7-d925e4ff5ad0"
      },
      "execution_count": 13,
      "outputs": [
        {
          "output_type": "stream",
          "name": "stdout",
          "text": [
            "in traditional grammar, it is typically defined as a string of words that expresses a complete thought, or as a unit consisting of a subject and predicate. in non-functional linguistics it is typically defined as a maximal unit of syntactic structure such as a constituent. linguistic expression, such as the english example the quick brown fox jumps over the lazy dog.\n"
          ]
        }
      ]
    }
  ]
}